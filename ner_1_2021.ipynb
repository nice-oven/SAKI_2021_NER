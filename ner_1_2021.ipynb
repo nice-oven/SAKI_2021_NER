{
 "cells": [
  {
   "cell_type": "markdown",
   "metadata": {
    "id": "GgDUExqz5ioj"
   },
   "source": [
    "Set up Google Colab Drive"
   ]
  },
  {
   "cell_type": "code",
   "execution_count": 2,
   "metadata": {
    "colab": {
     "base_uri": "https://localhost:8080/"
    },
    "id": "3chPOl3o5MrV",
    "outputId": "5181c95e-994c-423c-ea06-1c778abed17a"
   },
   "outputs": [],
   "source": [
    "# from google.colab import drive\n",
    "# drive.mount('/content/gdrive')"
   ]
  },
  {
   "cell_type": "markdown",
   "metadata": {
    "id": "VXJqiu7P6T2p"
   },
   "source": [
    "Deep learning needs the computational power of GPUs, therefore, we run this notebook on Google Colab with GPU support.<br>\n",
    "Check RAM of GPU.<br>\n",
    "For this end, we need to install [GPUtil](https://pypi.org/project/GPUtil/)."
   ]
  },
  {
   "cell_type": "code",
   "execution_count": 3,
   "metadata": {
    "colab": {
     "base_uri": "https://localhost:8080/"
    },
    "id": "gumhOAG16vYh",
    "outputId": "b974f58f-31bd-4d1f-b9bf-8763bdcbbf65"
   },
   "outputs": [],
   "source": [
    "# pip install GPUtil"
   ]
  },
  {
   "cell_type": "code",
   "execution_count": 4,
   "metadata": {
    "id": "WkK4Lfch6MGo"
   },
   "outputs": [
    {
     "name": "stdout",
     "output_type": "stream",
     "text": [
      "Gen RAM Free: 8.9 GB  I Proc size: 59.8 MB\n",
      "GPU RAM Free: 2596MB | Used: 1500MB | Util  37% | Total 4096MB\n"
     ]
    }
   ],
   "source": [
    "import psutil\n",
    "import humanize\n",
    "import os\n",
    "import GPUtil as GPU\n",
    "GPUs = GPU.getGPUs()\n",
    "gpu = GPUs[0]\n",
    "\n",
    "def printm():\n",
    "  process = psutil.Process(os.getpid())\n",
    "  print(\"Gen RAM Free: \" + humanize.naturalsize( psutil.virtual_memory().available ), \" I Proc size: \" + humanize.naturalsize( process.memory_info().rss))\n",
    "  print('GPU RAM Free: {0:.0f}MB | Used: {1:.0f}MB | Util {2:3.0f}% | Total {3:.0f}MB'.format(gpu.memoryFree, gpu.memoryUsed, gpu.memoryUtil*100, gpu.memoryTotal))\n",
    "\n",
    "printm()"
   ]
  },
  {
   "cell_type": "markdown",
   "metadata": {
    "id": "M3-quF-P-XXH"
   },
   "source": [
    "Change directory to \"/flair\""
   ]
  },
  {
   "cell_type": "code",
   "execution_count": 5,
   "metadata": {
    "colab": {
     "base_uri": "https://localhost:8080/",
     "height": 35
    },
    "id": "BBTFZUFp_fY2",
    "outputId": "9c0f4341-10b3-49f5-d64a-5b7dc7e755eb"
   },
   "outputs": [],
   "source": [
    "# os.getcwd()"
   ]
  },
  {
   "cell_type": "markdown",
   "metadata": {
    "id": "lRq9VJeA_sSH"
   },
   "source": [
    "So, we are currently in \"/content\""
   ]
  },
  {
   "cell_type": "code",
   "execution_count": 6,
   "metadata": {
    "colab": {
     "base_uri": "https://localhost:8080/"
    },
    "id": "_1VO3JH8ADUt",
    "outputId": "1b2fa206-d1a2-4749-d153-e36357139c1e"
   },
   "outputs": [],
   "source": [
    "# for directory in os.walk( os.getcwd() ):\n",
    "\n",
    "  # print( directory )"
   ]
  },
  {
   "cell_type": "markdown",
   "metadata": {
    "id": "hhCgEKfqA8mU"
   },
   "source": [
    "We see in the table above, that there exists a folder \"/content/gdrive/MyDrive/flair\" into which we have loaded our data.<br>\n",
    "We now change the working directory to this directory."
   ]
  },
  {
   "cell_type": "code",
   "execution_count": 7,
   "metadata": {
    "id": "LefqzTtQA229"
   },
   "outputs": [],
   "source": [
    "# os.chdir( \"/content/gdrive/MyDrive/flair\" )"
   ]
  },
  {
   "cell_type": "code",
   "execution_count": 8,
   "metadata": {
    "colab": {
     "base_uri": "https://localhost:8080/",
     "height": 35
    },
    "id": "r88--TlKBW9r",
    "outputId": "f8ab1475-7f48-4071-e95d-c4fe7c097ddb"
   },
   "outputs": [],
   "source": [
    "# os.getcwd()"
   ]
  },
  {
   "cell_type": "markdown",
   "metadata": {},
   "source": [
    "Using the code from above, we change the current working directory to the directory, where we loaded our data to."
   ]
  },
  {
   "cell_type": "code",
   "execution_count": 9,
   "metadata": {
    "colab": {
     "base_uri": "https://localhost:8080/"
    },
    "id": "1KpNb75WC1RS",
    "outputId": "7aaac04b-a7e8-4a62-92bf-33ccbe1794e7"
   },
   "outputs": [],
   "source": [
    "# os.listdir( os.getcwd() )"
   ]
  },
  {
   "cell_type": "markdown",
   "metadata": {
    "id": "PvSVxTV4ERCb"
   },
   "source": [
    "Install Flair"
   ]
  },
  {
   "cell_type": "code",
   "execution_count": 10,
   "metadata": {
    "colab": {
     "base_uri": "https://localhost:8080/"
    },
    "id": "s6UgvIiOET3h",
    "outputId": "9ab5e29a-2300-4cd1-fadc-35aa1b69754c"
   },
   "outputs": [],
   "source": [
    "# pip install flair"
   ]
  },
  {
   "cell_type": "markdown",
   "metadata": {
    "id": "OKbUtk3gUIUH"
   },
   "source": [
    "Import the Data Set"
   ]
  },
  {
   "cell_type": "code",
   "execution_count": 11,
   "metadata": {
    "id": "0hwSlDozTvTu"
   },
   "outputs": [],
   "source": [
    "path_to_data = os.getcwd() + '/Entity Recognition in Resumes.json'"
   ]
  },
  {
   "cell_type": "markdown",
   "metadata": {},
   "source": [
    "__Task 1__: Complete the following code: we want to read the data from said .json-file into the list __imported_data__. Also, print the first line, so that we get an idea, what the data look like. Also, print how many resumees we got."
   ]
  },
  {
   "cell_type": "code",
   "execution_count": 12,
   "metadata": {
    "colab": {
     "base_uri": "https://localhost:8080/"
    },
    "id": "StK5oNS8Uo7G",
    "outputId": "a0affbe4-fce5-4cba-9c7c-5cb49580c53c"
   },
   "outputs": [
    {
     "name": "stdout",
     "output_type": "stream",
     "text": [
      "First line:\t {\"content\": \"Afreen Jamadar\\nActive member of IIIT Committee in Third year\\n\\nSangli, Maharashtra - Email me on Indeed: indeed.com/r/Afreen-Jamadar/8baf379b705e37c6\\n\\nI wish to use my knowledge, skills and conceptual understanding to create excellent team\\nenvironments and work consistently achieving organization objectives believes in taking initiative\\nand work to excellence in my work.\\n\\nWORK EXPERIENCE\\n\\nActive member of IIIT Committee in Third year\\n\\nCisco Networking -  Kanpur, Uttar Pradesh\\n\\norganized by Techkriti IIT Kanpur and Azure Skynet.\\nPERSONALLITY TRAITS:\\n• Quick learning ability\\n• hard working\\n\\nEDUCATION\\n\\nPG-DAC\\n\\nCDAC ACTS\\n\\n2017\\n\\nBachelor of Engg in Information Technology\\n\\nShivaji University Kolhapur -  Kolhapur, Maharashtra\\n\\n2016\\n\\nSKILLS\\n\\nDatabase (Less than 1 year), HTML (Less than 1 year), Linux. (Less than 1 year), MICROSOFT\\nACCESS (Less than 1 year), MICROSOFT WINDOWS (Less than 1 year)\\n\\nADDITIONAL INFORMATION\\n\\nTECHNICAL SKILLS:\\n\\n• Programming Languages: C, C++, Java, .net, php.\\n• Web Designing: HTML, XML\\n• Operating Systems: Windows […] Windows Server 2003, Linux.\\n• Database: MS Access, MS SQL Server 2008, Oracle 10g, MySql.\\n\\nhttps://www.indeed.com/r/Afreen-Jamadar/8baf379b705e37c6?isid=rex-download&ikw=download-top&co=IN\",\"annotation\":[{\"label\":[\"Email Address\"],\"points\":[{\"start\":1155,\"end\":1198,\"text\":\"indeed.com/r/Afreen-Jamadar/8baf379b705e37c6\"}]},{\"label\":[\"Links\"],\"points\":[{\"start\":1143,\"end\":1239,\"text\":\"https://www.indeed.com/r/Afreen-Jamadar/8baf379b705e37c6?isid=rex-download&ikw=download-top&co=IN\"}]},{\"label\":[\"Skills\"],\"points\":[{\"start\":743,\"end\":1140,\"text\":\"Database (Less than 1 year), HTML (Less than 1 year), Linux. (Less than 1 year), MICROSOFT\\nACCESS (Less than 1 year), MICROSOFT WINDOWS (Less than 1 year)\\n\\nADDITIONAL INFORMATION\\n\\nTECHNICAL SKILLS:\\n\\n• Programming Languages: C, C++, Java, .net, php.\\n• Web Designing: HTML, XML\\n• Operating Systems: Windows […] Windows Server 2003, Linux.\\n• Database: MS Access, MS SQL Server 2008, Oracle 10g, MySql.\"}]},{\"label\":[\"Graduation Year\"],\"points\":[{\"start\":729,\"end\":732,\"text\":\"2016\"}]},{\"label\":[\"College Name\"],\"points\":[{\"start\":675,\"end\":702,\"text\":\"Shivaji University Kolhapur \"}]},{\"label\":[\"Degree\"],\"points\":[{\"start\":631,\"end\":672,\"text\":\"Bachelor of Engg in Information Technology\"}]},{\"label\":[\"Graduation Year\"],\"points\":[{\"start\":625,\"end\":629,\"text\":\"2017\\n\"}]},{\"label\":[\"College Name\"],\"points\":[{\"start\":614,\"end\":622,\"text\":\"CDAC ACTS\"}]},{\"label\":[\"Degree\"],\"points\":[{\"start\":606,\"end\":611,\"text\":\"PG-DAC\"}]},{\"label\":[\"Companies worked at\"],\"points\":[{\"start\":438,\"end\":453,\"text\":\"Cisco Networking\"}]},{\"label\":[\"Email Address\"],\"points\":[{\"start\":104,\"end\":147,\"text\":\"indeed.com/r/Afreen-Jamadar/8baf379b705e37c6\"}]},{\"label\":[\"Location\"],\"points\":[{\"start\":62,\"end\":67,\"text\":\"Sangli\"}]},{\"label\":[\"Name\"],\"points\":[{\"start\":0,\"end\":13,\"text\":\"Afreen Jamadar\"}]}],\"extras\":null,\"metadata\":{\"first_done_at\":1527844872000,\"last_updated_at\":1537724086000,\"sec_taken\":0,\"last_updated_by\":\"BIQNZm4INNfvByMqkaVwVt6OZTv2\",\"status\":\"done\",\"evaluation\":\"CORRECT\"}}\n",
      "\n",
      "# of resumes:\t 701\n"
     ]
    }
   ],
   "source": [
    "myfile = open( path_to_data, \"r\", encoding = \"utf-8\" )\n",
    "\n",
    "imported_data = []\n",
    "\n",
    "for datum in myfile:\n",
    "    imported_data.append(datum)\n",
    "\n",
    "myfile.close()\n",
    "\n",
    "# TODO print first line\n",
    "print(\"First line:\\t\", imported_data[0])\n",
    "\n",
    "# TODO print how many resumees were read in\n",
    "print(\"# of resumes:\\t\", len(imported_data))"
   ]
  },
  {
   "cell_type": "markdown",
   "metadata": {
    "id": "I1ZSnIfOWLP_"
   },
   "source": [
    "Map the dataset to json"
   ]
  },
  {
   "cell_type": "code",
   "execution_count": 13,
   "metadata": {
    "id": "We0edT5BWRTv"
   },
   "outputs": [],
   "source": [
    "import json"
   ]
  },
  {
   "cell_type": "code",
   "execution_count": 14,
   "metadata": {
    "id": "vI-fguXrWTvo"
   },
   "outputs": [],
   "source": [
    "mapped_data = [ json.loads( datum ) for datum in imported_data  ]"
   ]
  },
  {
   "cell_type": "markdown",
   "metadata": {},
   "source": [
    "Now, the data are stored in __mapped_data__. __mapped_data__ is a list, and its entries are dictionaries.<br>\n",
    "__Task 2__: choose an entry of __mapped_data__, iterate over its keys, print the key and its corresponding value."
   ]
  },
  {
   "cell_type": "code",
   "execution_count": 15,
   "metadata": {
    "colab": {
     "base_uri": "https://localhost:8080/"
    },
    "id": "exSHAxQFYBbp",
    "outputId": "e7ed7dbd-2c18-4023-d9c6-7e982868fccd"
   },
   "outputs": [
    {
     "name": "stdout",
     "output_type": "stream",
     "text": [
      "key:\t content  content:\t Afreen Jamadar\n",
      "Active member of IIIT Committee in Third year\n",
      "\n",
      "Sangli, Maharashtra - Email me on Indeed: indeed.com/r/Afreen-Jamadar/8baf379b705e37c6\n",
      "\n",
      "I wish to use my knowledge, skills and conceptual understanding to create excellent team\n",
      "environments and work consistently achieving organization objectives believes in taking initiative\n",
      "and work to excellence in my work.\n",
      "\n",
      "WORK EXPERIENCE\n",
      "\n",
      "Active member of IIIT Committee in Third year\n",
      "\n",
      "Cisco Networking -  Kanpur, Uttar Pradesh\n",
      "\n",
      "organized by Techkriti IIT Kanpur and Azure Skynet.\n",
      "PERSONALLITY TRAITS:\n",
      "• Quick learning ability\n",
      "• hard working\n",
      "\n",
      "EDUCATION\n",
      "\n",
      "PG-DAC\n",
      "\n",
      "CDAC ACTS\n",
      "\n",
      "2017\n",
      "\n",
      "Bachelor of Engg in Information Technology\n",
      "\n",
      "Shivaji University Kolhapur -  Kolhapur, Maharashtra\n",
      "\n",
      "2016\n",
      "\n",
      "SKILLS\n",
      "\n",
      "Database (Less than 1 year), HTML (Less than 1 year), Linux. (Less than 1 year), MICROSOFT\n",
      "ACCESS (Less than 1 year), MICROSOFT WINDOWS (Less than 1 year)\n",
      "\n",
      "ADDITIONAL INFORMATION\n",
      "\n",
      "TECHNICAL SKILLS:\n",
      "\n",
      "• Programming Languages: C, C++, Java, .net, php.\n",
      "• Web Designing: HTML, XML\n",
      "• Operating Systems: Windows […] Windows Server 2003, Linux.\n",
      "• Database: MS Access, MS SQL Server 2008, Oracle 10g, MySql.\n",
      "\n",
      "https://www.indeed.com/r/Afreen-Jamadar/8baf379b705e37c6?isid=rex-download&ikw=download-top&co=IN\n",
      "key:\t annotation  content:\t [{'label': ['Email Address'], 'points': [{'start': 1155, 'end': 1198, 'text': 'indeed.com/r/Afreen-Jamadar/8baf379b705e37c6'}]}, {'label': ['Links'], 'points': [{'start': 1143, 'end': 1239, 'text': 'https://www.indeed.com/r/Afreen-Jamadar/8baf379b705e37c6?isid=rex-download&ikw=download-top&co=IN'}]}, {'label': ['Skills'], 'points': [{'start': 743, 'end': 1140, 'text': 'Database (Less than 1 year), HTML (Less than 1 year), Linux. (Less than 1 year), MICROSOFT\\nACCESS (Less than 1 year), MICROSOFT WINDOWS (Less than 1 year)\\n\\nADDITIONAL INFORMATION\\n\\nTECHNICAL SKILLS:\\n\\n• Programming Languages: C, C++, Java, .net, php.\\n• Web Designing: HTML, XML\\n• Operating Systems: Windows […] Windows Server 2003, Linux.\\n• Database: MS Access, MS SQL Server 2008, Oracle 10g, MySql.'}]}, {'label': ['Graduation Year'], 'points': [{'start': 729, 'end': 732, 'text': '2016'}]}, {'label': ['College Name'], 'points': [{'start': 675, 'end': 702, 'text': 'Shivaji University Kolhapur '}]}, {'label': ['Degree'], 'points': [{'start': 631, 'end': 672, 'text': 'Bachelor of Engg in Information Technology'}]}, {'label': ['Graduation Year'], 'points': [{'start': 625, 'end': 629, 'text': '2017\\n'}]}, {'label': ['College Name'], 'points': [{'start': 614, 'end': 622, 'text': 'CDAC ACTS'}]}, {'label': ['Degree'], 'points': [{'start': 606, 'end': 611, 'text': 'PG-DAC'}]}, {'label': ['Companies worked at'], 'points': [{'start': 438, 'end': 453, 'text': 'Cisco Networking'}]}, {'label': ['Email Address'], 'points': [{'start': 104, 'end': 147, 'text': 'indeed.com/r/Afreen-Jamadar/8baf379b705e37c6'}]}, {'label': ['Location'], 'points': [{'start': 62, 'end': 67, 'text': 'Sangli'}]}, {'label': ['Name'], 'points': [{'start': 0, 'end': 13, 'text': 'Afreen Jamadar'}]}]\n",
      "key:\t extras  content:\t None\n",
      "key:\t metadata  content:\t {'first_done_at': 1527844872000, 'last_updated_at': 1537724086000, 'sec_taken': 0, 'last_updated_by': 'BIQNZm4INNfvByMqkaVwVt6OZTv2', 'status': 'done', 'evaluation': 'CORRECT'}\n"
     ]
    }
   ],
   "source": [
    "#TODO choose an entry of mapped_data, iterate over its keys, print the key and its corresponding value\n",
    "for key in mapped_data[0].keys():\n",
    "    print(\"key:\\t\", key, \" content:\\t\", mapped_data[0][key])"
   ]
  },
  {
   "cell_type": "markdown",
   "metadata": {
    "id": "8gp7URulapTm"
   },
   "source": [
    "__Question 1__: What are the keys, and what information do these keys store?<br>\n",
    "__Task 3__: for each entry of __annotations__: iterate over the keys of this entry and print the key and the corresponding value."
   ]
  },
  {
   "cell_type": "code",
   "execution_count": 16,
   "metadata": {
    "colab": {
     "base_uri": "https://localhost:8080/"
    },
    "id": "K9WcXpq4bTee",
    "outputId": "516847ab-74ff-4823-d920-925aaa6f92bb"
   },
   "outputs": [],
   "source": [
    "# TODO for each entry of annotations: iterate over the keys of this entry and print the key and the corresponding value"
   ]
  },
  {
   "cell_type": "markdown",
   "metadata": {
    "id": "6i-ZPKiyfyrt"
   },
   "source": [
    "__Question 2__: What did you learn about the __annotations__? Give an example.<br>\n",
    "__Task 4__: Complete the following code to map the __mapped_data__ to a format, from which Spacy can learn. Print the first converted resumee for inspection. Choose one resumee. For this resumee, print all the data in __entities__."
   ]
  },
  {
   "cell_type": "code",
   "execution_count": 17,
   "metadata": {
    "colab": {
     "base_uri": "https://localhost:8080/"
    },
    "id": "Mzmu0XSOhybH",
    "outputId": "102ffd61-e51e-4d4b-fd73-0f1e14c448d5"
   },
   "outputs": [],
   "source": [
    "## data conversion method\n",
    "def convert_data(data):\n",
    "    \"\"\"\n",
    "    Creates NER training data in Spacy format from JSON dataset\n",
    "    Outputs the Spacy training data which can be used for Spacy training.\n",
    "    \"\"\"\n",
    "    text = data['content']\n",
    "    entities = []\n",
    "    if data['annotation'] is not None:\n",
    "        for annotation in data['annotation']:\n",
    "            # only a single point in text annotation.\n",
    "            point = annotation['points'][0]\n",
    "            labels = annotation['label']\n",
    "            # handle both list of labels or a single label.\n",
    "            if not isinstance(labels, list):\n",
    "                labels = [labels]\n",
    "            for label in labels:\n",
    "                # dataturks indices are both inclusive [start, end] but spacy is not [start, end)\n",
    "                entities.append((point['start'], point['end'] + 1, label))\n",
    "    return (text, {\"entities\": entities})\n",
    "   \n",
    "## TODO using a loop or list comprehension, convert each resume in mapped_data using the convert function above, \n",
    "## storing the result\n",
    "converted_resumes = [convert_data(resume) for resume in mapped_data]\n",
    "## TODO print the number of resumes in converted resumes "
   ]
  },
  {
   "cell_type": "code",
   "execution_count": 18,
   "metadata": {
    "colab": {
     "base_uri": "https://localhost:8080/"
    },
    "id": "2jO6WUBLiaD0",
    "outputId": "0e7852c2-0e09-465c-e270-3f32c8f6b7ef"
   },
   "outputs": [
    {
     "name": "stdout",
     "output_type": "stream",
     "text": [
      "text Afreen Jamadar\n",
      "Active member of IIIT Committee in Third year\n",
      "\n",
      "Sangli, Maharashtra - Email me on Indeed: indeed.com/r/Afreen-Jamadar/8baf379b705e37c6\n",
      "\n",
      "I wish to use my knowledge, skills and conceptual understanding to create excellent team\n",
      "environments and work consistently achieving organization objectives believes in taking initiative\n",
      "and work to excellence in my work.\n",
      "\n",
      "WORK EXPERIENCE\n",
      "\n",
      "Active member of IIIT Committee in Third year\n",
      "\n",
      "Cisco Networking -  Kanpur, Uttar Pradesh\n",
      "\n",
      "organized by Techkriti IIT Kanpur and Azure Skynet.\n",
      "PERSONALLITY TRAITS:\n",
      "• Quick learning ability\n",
      "• hard working\n",
      "\n",
      "EDUCATION\n",
      "\n",
      "PG-DAC\n",
      "\n",
      "CDAC ACTS\n",
      "\n",
      "2017\n",
      "\n",
      "Bachelor of Engg in Information Technology\n",
      "\n",
      "Shivaji University Kolhapur -  Kolhapur, Maharashtra\n",
      "\n",
      "2016\n",
      "\n",
      "SKILLS\n",
      "\n",
      "Database (Less than 1 year), HTML (Less than 1 year), Linux. (Less than 1 year), MICROSOFT\n",
      "ACCESS (Less than 1 year), MICROSOFT WINDOWS (Less than 1 year)\n",
      "\n",
      "ADDITIONAL INFORMATION\n",
      "\n",
      "TECHNICAL SKILLS:\n",
      "\n",
      "• Programming Languages: C, C++, Java, .net, php.\n",
      "• Web Designing: HTML, XML\n",
      "• Operating Systems: Windows […] Windows Server 2003, Linux.\n",
      "• Database: MS Access, MS SQL Server 2008, Oracle 10g, MySql.\n",
      "\n",
      "https://www.indeed.com/r/Afreen-Jamadar/8baf379b705e37c6?isid=rex-download&ikw=download-top&co=IN\n",
      "entities {'entities': [(1155, 1199, 'Email Address'), (1143, 1240, 'Links'), (743, 1141, 'Skills'), (729, 733, 'Graduation Year'), (675, 703, 'College Name'), (631, 673, 'Degree'), (625, 630, 'Graduation Year'), (614, 623, 'College Name'), (606, 612, 'Degree'), (438, 454, 'Companies worked at'), (104, 148, 'Email Address'), (62, 68, 'Location'), (0, 14, 'Name')]}\n"
     ]
    }
   ],
   "source": [
    "# TODO print the first resumee for inspection\n",
    "print(\"text\", converted_resumes[0][0])\n",
    "print(\"entities\", converted_resumes[0][1])"
   ]
  },
  {
   "cell_type": "code",
   "execution_count": 19,
   "metadata": {
    "colab": {
     "base_uri": "https://localhost:8080/"
    },
    "id": "6FDv_kfXi4MF",
    "outputId": "2d477b09-cdf8-4fff-8816-cb499718bfc6"
   },
   "outputs": [
    {
     "name": "stdout",
     "output_type": "stream",
     "text": [
      "entity data: {\n",
      "    \"entities\": [\n",
      "        [\n",
      "            1155,\n",
      "            1199,\n",
      "            \"Email Address\"\n",
      "        ],\n",
      "        [\n",
      "            1143,\n",
      "            1240,\n",
      "            \"Links\"\n",
      "        ],\n",
      "        [\n",
      "            743,\n",
      "            1141,\n",
      "            \"Skills\"\n",
      "        ],\n",
      "        [\n",
      "            729,\n",
      "            733,\n",
      "            \"Graduation Year\"\n",
      "        ],\n",
      "        [\n",
      "            675,\n",
      "            703,\n",
      "            \"College Name\"\n",
      "        ],\n",
      "        [\n",
      "            631,\n",
      "            673,\n",
      "            \"Degree\"\n",
      "        ],\n",
      "        [\n",
      "            625,\n",
      "            630,\n",
      "            \"Graduation Year\"\n",
      "        ],\n",
      "        [\n",
      "            614,\n",
      "            623,\n",
      "            \"College Name\"\n",
      "        ],\n",
      "        [\n",
      "            606,\n",
      "            612,\n",
      "            \"Degree\"\n",
      "        ],\n",
      "        [\n",
      "            438,\n",
      "            454,\n",
      "            \"Companies worked at\"\n",
      "        ],\n",
      "        [\n",
      "            104,\n",
      "            148,\n",
      "            \"Email Address\"\n",
      "        ],\n",
      "        [\n",
      "            62,\n",
      "            68,\n",
      "            \"Location\"\n",
      "        ],\n",
      "        [\n",
      "            0,\n",
      "            14,\n",
      "            \"Name\"\n",
      "        ]\n",
      "    ]\n",
      "}\n"
     ]
    }
   ],
   "source": [
    "# TODO choose one resumee. For this resumee, print all the data in entities. Use the dumps function from json.\n",
    "print(\"entity data:\", json.dumps(converted_resumes[0][1], indent=4))"
   ]
  },
  {
   "cell_type": "markdown",
   "metadata": {
    "id": "lXx23PxAjPBj"
   },
   "source": [
    "__Task 5__: Explain the printout from above.<br>\n",
    "__Task 6__: Since some resumees have no annotation, we want to filter these out. You can recognize these resumees by them having no entries in __entities__. Pick one of the remaining resumees, iterate over the items in __entitities__, print for each item the label and the corresponding text from the resumee."
   ]
  },
  {
   "cell_type": "code",
   "execution_count": 20,
   "metadata": {
    "id": "8KjAdqTckp41"
   },
   "outputs": [],
   "source": [
    "# TODO filter out the resumees whose entities have no entries.\n",
    "converted_complete_resumees = [complete_resume for complete_resume in converted_resumes if len(complete_resume[1][\"entities\"]) > 0]"
   ]
  },
  {
   "cell_type": "code",
   "execution_count": 21,
   "metadata": {
    "colab": {
     "base_uri": "https://localhost:8080/"
    },
    "id": "Al0x9iyBk-qs",
    "outputId": "67322422-b620-4e67-a946-3a34a3b314e3"
   },
   "outputs": [
    {
     "name": "stdout",
     "output_type": "stream",
     "text": [
      "690\n"
     ]
    }
   ],
   "source": [
    "print( len( converted_complete_resumees ) )"
   ]
  },
  {
   "cell_type": "code",
   "execution_count": 22,
   "metadata": {
    "colab": {
     "base_uri": "https://localhost:8080/"
    },
    "id": "qys_4RJ6nCCj",
    "outputId": "47be654b-c18c-44cb-fe70-3fa58d4f86c3"
   },
   "outputs": [
    {
     "name": "stdout",
     "output_type": "stream",
     "text": [
      "not empty: {\n",
      "    \"entities\": [\n",
      "        [\n",
      "            4492,\n",
      "            4515,\n",
      "            \"Skills\"\n",
      "        ],\n",
      "        [\n",
      "            4449,\n",
      "            4479,\n",
      "            \"Skills\"\n",
      "        ],\n",
      "        [\n",
      "            4435,\n",
      "            4439,\n",
      "            \"Years of Experience\"\n",
      "        ],\n",
      "        [\n",
      "            4414,\n",
      "            4420,\n",
      "            \"Location\"\n",
      "        ],\n",
      "        [\n",
      "            4393,\n",
      "            4410,\n",
      "            \"College Name\"\n",
      "        ],\n",
      "        [\n",
      "            4393,\n",
      "            4399,\n",
      "            \"Location\"\n",
      "        ],\n",
      "        [\n",
      "            4347,\n",
      "            4391,\n",
      "            \"Degree\"\n",
      "        ],\n",
      "        [\n",
      "            4320,\n",
      "            4326,\n",
      "            \"Location\"\n",
      "        ],\n",
      "        [\n",
      "            4291,\n",
      "            4316,\n",
      "            \"College Name\"\n",
      "        ],\n",
      "        [\n",
      "            4250,\n",
      "            4289,\n",
      "            \"Degree\"\n",
      "        ],\n",
      "        [\n",
      "            4244,\n",
      "            4248,\n",
      "            \"Years of Experience\"\n",
      "        ],\n",
      "        [\n",
      "            4223,\n",
      "            4229,\n",
      "            \"Location\"\n",
      "        ],\n",
      "        [\n",
      "            4161,\n",
      "            4219,\n",
      "            \"College Name\"\n",
      "        ],\n",
      "        [\n",
      "            4134,\n",
      "            4153,\n",
      "            \"Degree\"\n",
      "        ],\n",
      "        [\n",
      "            4103,\n",
      "            4132,\n",
      "            \"Degree\"\n",
      "        ],\n",
      "        [\n",
      "            4097,\n",
      "            4101,\n",
      "            \"Years of Experience\"\n",
      "        ],\n",
      "        [\n",
      "            4077,\n",
      "            4093,\n",
      "            \"College Name\"\n",
      "        ],\n",
      "        [\n",
      "            4059,\n",
      "            4075,\n",
      "            \"Degree\"\n",
      "        ],\n",
      "        [\n",
      "            4032,\n",
      "            4038,\n",
      "            \"Location\"\n",
      "        ],\n",
      "        [\n",
      "            3962,\n",
      "            4020,\n",
      "            \"College Name\"\n",
      "        ],\n",
      "        [\n",
      "            3568,\n",
      "            3572,\n",
      "            \"Years of Experience\"\n",
      "        ],\n",
      "        [\n",
      "            3551,\n",
      "            3555,\n",
      "            \"Years of Experience\"\n",
      "        ],\n",
      "        [\n",
      "            3517,\n",
      "            3543,\n",
      "            \"Companies worked at\"\n",
      "        ],\n",
      "        [\n",
      "            3502,\n",
      "            3515,\n",
      "            \"Designation\"\n",
      "        ],\n",
      "        [\n",
      "            2783,\n",
      "            2787,\n",
      "            \"Years of Experience\"\n",
      "        ],\n",
      "        [\n",
      "            2769,\n",
      "            2773,\n",
      "            \"Years of Experience\"\n",
      "        ],\n",
      "        [\n",
      "            2743,\n",
      "            2756,\n",
      "            \"Designation\"\n",
      "        ],\n",
      "        [\n",
      "            2736,\n",
      "            2740,\n",
      "            \"Years of Experience\"\n",
      "        ],\n",
      "        [\n",
      "            2723,\n",
      "            2727,\n",
      "            \"Years of Experience\"\n",
      "        ],\n",
      "        [\n",
      "            2704,\n",
      "            2710,\n",
      "            \"Location\"\n",
      "        ],\n",
      "        [\n",
      "            2673,\n",
      "            2702,\n",
      "            \"Companies worked at\"\n",
      "        ],\n",
      "        [\n",
      "            2141,\n",
      "            2184,\n",
      "            \"Email Address\"\n",
      "        ],\n",
      "        [\n",
      "            1750,\n",
      "            1754,\n",
      "            \"Years of Experience\"\n",
      "        ],\n",
      "        [\n",
      "            1737,\n",
      "            1741,\n",
      "            \"Years of Experience\"\n",
      "        ],\n",
      "        [\n",
      "            1708,\n",
      "            1714,\n",
      "            \"Location\"\n",
      "        ],\n",
      "        [\n",
      "            1672,\n",
      "            1689,\n",
      "            \"Companies worked at\"\n",
      "        ],\n",
      "        [\n",
      "            1642,\n",
      "            1670,\n",
      "            \"Designation\"\n",
      "        ],\n",
      "        [\n",
      "            1296,\n",
      "            1319,\n",
      "            \"Companies worked at\"\n",
      "        ],\n",
      "        [\n",
      "            1220,\n",
      "            1239,\n",
      "            \"Location\"\n",
      "        ],\n",
      "        [\n",
      "            1172,\n",
      "            1176,\n",
      "            \"Years of Experience\"\n",
      "        ],\n",
      "        [\n",
      "            1157,\n",
      "            1163,\n",
      "            \"Location\"\n",
      "        ],\n",
      "        [\n",
      "            1136,\n",
      "            1153,\n",
      "            \"Companies worked at\"\n",
      "        ],\n",
      "        [\n",
      "            1115,\n",
      "            1134,\n",
      "            \"Location\"\n",
      "        ],\n",
      "        [\n",
      "            1101,\n",
      "            1114,\n",
      "            \"Designation\"\n",
      "        ],\n",
      "        [\n",
      "            1093,\n",
      "            1114,\n",
      "            \"Designation\"\n",
      "        ],\n",
      "        [\n",
      "            353,\n",
      "            376,\n",
      "            \"Skills\"\n",
      "        ],\n",
      "        [\n",
      "            197,\n",
      "            225,\n",
      "            \"Years of Experience\"\n",
      "        ],\n",
      "        [\n",
      "            124,\n",
      "            167,\n",
      "            \"Email Address\"\n",
      "        ],\n",
      "        [\n",
      "            82,\n",
      "            88,\n",
      "            \"Location\"\n",
      "        ],\n",
      "        [\n",
      "            58,\n",
      "            81,\n",
      "            \"Companies worked at\"\n",
      "        ],\n",
      "        [\n",
      "            36,\n",
      "            55,\n",
      "            \"Location\"\n",
      "        ],\n",
      "        [\n",
      "            22,\n",
      "            35,\n",
      "            \"Designation\"\n",
      "        ],\n",
      "        [\n",
      "            14,\n",
      "            35,\n",
      "            \"Designation\"\n",
      "        ],\n",
      "        [\n",
      "            0,\n",
      "            13,\n",
      "            \"Name\"\n",
      "        ]\n",
      "    ]\n",
      "}\n"
     ]
    }
   ],
   "source": [
    "# TODO Now, pick one resumee from converted_complete_resumees, and iterate over the items in \n",
    "# entities. Print for each item the label and the corresponding text from the resumee.\n",
    "print(\"not empty:\", json.dumps(converted_complete_resumees[231][1], indent=4))"
   ]
  },
  {
   "cell_type": "markdown",
   "metadata": {
    "id": "QJCOSsZJtDnA"
   },
   "source": [
    "__Question 3__: Are the labels unique? If the labels are not unique, does this make the data ambigious?<br>\n",
    "__Task 7__: Collect the names of all entities in __converted_complete_resumee__ dataset, and store these names in __all_labels__. Then iterate over the contents of __all_labels__, and store each name that does not appear in __unique_labels__ in __unique_labels__, so that __unique_labels__ contains each name that appears in __all_labels__, but only once."
   ]
  },
  {
   "cell_type": "code",
   "execution_count": 23,
   "metadata": {
    "colab": {
     "base_uri": "https://localhost:8080/"
    },
    "id": "i8N5z6OutflX",
    "outputId": "76fa67e2-724e-44f4-c640-b81164dd89aa"
   },
   "outputs": [
    {
     "name": "stdout",
     "output_type": "stream",
     "text": [
      "UNKNOWN\n",
      "Relocate to\n",
      "Email Address\n",
      "Graduation Year\n",
      "University\n",
      "Degree\n",
      "abc\n",
      "College Name\n",
      "Certifications\n",
      "projects\n",
      "training\n",
      "College\n",
      "links\n",
      "Designation\n",
      "Skills\n",
      "des\n",
      "Can Relocate to\n",
      "Rewards and Achievements\n",
      "Location\n",
      "Name\n",
      "state\n",
      "Links\n",
      "Address\n",
      "Companies worked at\n",
      "Years of Experience\n"
     ]
    }
   ],
   "source": [
    "# TODO Collect the names of all entities in converted_complete_resumee dataset, and store these names \n",
    "# in all_labels. Then iterate over the contents of all_labels, and store each name that does not appear \n",
    "# in unique_labels in unique_labels, so that unique_labels contains each name that appears in \n",
    "# all_labels, but only once.\n",
    "all_labels = [entry[2] for resume in converted_complete_resumees for entry in resume[1][\"entities\"]]\n",
    "\n",
    "unique_labels = set(all_labels)\n",
    "\n",
    "for res in converted_complete_resumees:\n",
    "    pass # oh lol\n",
    "for item in unique_labels:\n",
    "\n",
    "  print( item )"
   ]
  },
  {
   "cell_type": "markdown",
   "metadata": {
    "id": "fxJ_ZC6Zv0q1"
   },
   "source": [
    "__Task 8__: Now choose three labels, on which you want to train your named entity recognition algorithm. You want to have for each label at least 300 documents."
   ]
  },
  {
   "cell_type": "code",
   "execution_count": 24,
   "metadata": {
    "colab": {
     "base_uri": "https://localhost:8080/"
    },
    "id": "3KgZMpQTwiIu",
    "outputId": "a4e68553-77d1-430c-d2d7-0b878129af5d"
   },
   "outputs": [
    {
     "name": "stdout",
     "output_type": "stream",
     "text": [
      "Docs with Skills: 536\n",
      "Total count of Skills: 2152\n",
      "Docs with Location: 641\n",
      "Total count of Location: 1976\n",
      "Docs with Email Address: 640\n",
      "Total count of Email Address: 967\n"
     ]
    }
   ],
   "source": [
    "## TODO store entity label names for the entities you want to work with in an array \n",
    "chosen_entity_label = [\"Skills\", \"Location\", \"Email Address\"]\n",
    "## for each chosen entity label, count how many documents have a labeled entity for that label, and how many labeled entities total there are \n",
    "## for that entity\n",
    "for chosen in chosen_entity_label:\n",
    "    found_docs_with_entity = 0\n",
    "    entity_count = 0\n",
    "    for resume in converted_complete_resumees:\n",
    "        entity_list = resume[1][\"entities\"]\n",
    "        _,_,labels = zip(*entity_list)\n",
    "        if chosen in labels:\n",
    "            found_docs_with_entity+=1\n",
    "            entity_count+=len([l for l in labels if l == chosen])\n",
    "    print(\"Docs with {}: {}\".format(chosen,found_docs_with_entity))\n",
    "    print(\"Total count of {}: {}\".format(chosen,entity_count))"
   ]
  }
 ],
 "metadata": {
  "accelerator": "GPU",
  "colab": {
   "collapsed_sections": [],
   "name": "resumee_ner.ipynb",
   "provenance": []
  },
  "kernelspec": {
   "display_name": "Python 3",
   "language": "python",
   "name": "python3"
  },
  "language_info": {
   "codemirror_mode": {
    "name": "ipython",
    "version": 3
   },
   "file_extension": ".py",
   "mimetype": "text/x-python",
   "name": "python",
   "nbconvert_exporter": "python",
   "pygments_lexer": "ipython3",
   "version": "3.8.5"
  }
 },
 "nbformat": 4,
 "nbformat_minor": 1
}